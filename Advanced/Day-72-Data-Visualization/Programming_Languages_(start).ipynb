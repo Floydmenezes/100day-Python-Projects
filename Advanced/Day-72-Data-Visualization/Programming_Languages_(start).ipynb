{
 "nbformat": 4,
 "nbformat_minor": 0,
 "metadata": {
  "kernelspec": {
   "display_name": "Python 3",
   "language": "python",
   "name": "python3"
  },
  "language_info": {
   "codemirror_mode": {
    "name": "ipython",
    "version": 3
   },
   "file_extension": ".py",
   "mimetype": "text/x-python",
   "name": "python",
   "nbconvert_exporter": "python",
   "pygments_lexer": "ipython3",
   "version": "3.7.3"
  },
  "colab": {
   "name": "Programming Languages (start).ipynb",
   "provenance": []
  }
 },
 "cells": [
  {
   "cell_type": "markdown",
   "metadata": {
    "id": "MAAKxOwsGxuj",
    "colab_type": "text"
   },
   "source": [
    "## Get the Data\n",
    "\n",
    "Either use the provided .csv file or (optionally) get fresh (the freshest?) data from running an SQL query on StackExchange: \n",
    "\n",
    "Follow this link to run the query from [StackExchange](https://data.stackexchange.com/stackoverflow/query/675441/popular-programming-languages-per-over-time-eversql-com) to get your own .csv file\n",
    "\n",
    "<code>\n",
    "select dateadd(month, datediff(month, 0, q.CreationDate), 0) m, TagName, count(*)\n",
    "from PostTags pt\n",
    "join Posts q on q.Id=pt.PostId\n",
    "join Tags t on t.Id=pt.TagId\n",
    "where TagName in ('java','c','c++','python','c#','javascript','assembly','php','perl','ruby','visual basic','swift','r','object-c','scratch','go','swift','delphi')\n",
    "and q.CreationDate < dateadd(month, datediff(month, 0, getdate()), 0)\n",
    "group by dateadd(month, datediff(month, 0, q.CreationDate), 0), TagName\n",
    "order by dateadd(month, datediff(month, 0, q.CreationDate), 0)\n",
    "</code>"
   ]
  },
  {
   "cell_type": "markdown",
   "metadata": {
    "id": "u5KcSXt1Gxuk",
    "colab_type": "text"
   },
   "source": [
    "## Import Statements"
   ]
  },
  {
   "cell_type": "code",
   "metadata": {
    "id": "Ru4Wq-pXGxuk",
    "colab_type": "code",
    "colab": {}
   },
   "source": [
    "import pandas as pd\n",
    "import matplotlib.pyplot as plt"
   ],
   "execution_count": 51,
   "outputs": []
  },
  {
   "cell_type": "markdown",
   "metadata": {
    "id": "xEP6beuEGxun",
    "colab_type": "text"
   },
   "source": [
    "## Data Exploration"
   ]
  },
  {
   "cell_type": "markdown",
   "metadata": {
    "id": "w3Q75B4CGxun",
    "colab_type": "text",
    "pycharm": {
     "name": "#%% md\n"
    }
   },
   "source": [
    "**Challenge**: Read the .csv file and store it in a Pandas dataframe"
   ]
  },
  {
   "cell_type": "code",
   "metadata": {
    "id": "Bm7hQtEGIiri",
    "colab_type": "code",
    "colab": {}
   },
   "source": [
    "# Setting the header row to 0 allows us to substitute our own column names.\n",
    "df = pd.read_csv('QueryResults.csv', names=['DATE', 'TAG', 'POSTS'], header=0)\n",
    "print(df)"
   ],
   "execution_count": 33,
   "outputs": [
    {
     "name": "stdout",
     "output_type": "stream",
     "text": [
      "                     DATE         TAG  POSTS\n",
      "0     2008-07-01 00:00:00          c#      3\n",
      "1     2008-08-01 00:00:00    assembly      8\n",
      "2     2008-08-01 00:00:00  javascript    162\n",
      "3     2008-08-01 00:00:00           c     85\n",
      "4     2008-08-01 00:00:00      python    124\n",
      "...                   ...         ...    ...\n",
      "1986  2020-07-01 00:00:00           r   5694\n",
      "1987  2020-07-01 00:00:00          go    743\n",
      "1988  2020-07-01 00:00:00        ruby    775\n",
      "1989  2020-07-01 00:00:00        perl    182\n",
      "1990  2020-07-01 00:00:00       swift   3607\n",
      "\n",
      "[1991 rows x 3 columns]\n"
     ]
    }
   ]
  },
  {
   "cell_type": "markdown",
   "metadata": {
    "id": "x2WnDM75Gxup",
    "colab_type": "text"
   },
   "source": [
    "**Challenge**: Examine the first 5 rows and the last 5 rows of the of the dataframe"
   ]
  },
  {
   "cell_type": "code",
   "metadata": {
    "id": "50oqpUxVIiJf",
    "colab_type": "code",
    "colab": {}
   },
   "source": [
    "print(df.head())\n",
    "print(df.tail())"
   ],
   "execution_count": 36,
   "outputs": [
    {
     "name": "stdout",
     "output_type": "stream",
     "text": [
      "                  DATE         TAG  POSTS\n",
      "0  2008-07-01 00:00:00          c#      3\n",
      "1  2008-08-01 00:00:00    assembly      8\n",
      "2  2008-08-01 00:00:00  javascript    162\n",
      "3  2008-08-01 00:00:00           c     85\n",
      "4  2008-08-01 00:00:00      python    124\n",
      "                     DATE    TAG  POSTS\n",
      "1986  2020-07-01 00:00:00      r   5694\n",
      "1987  2020-07-01 00:00:00     go    743\n",
      "1988  2020-07-01 00:00:00   ruby    775\n",
      "1989  2020-07-01 00:00:00   perl    182\n",
      "1990  2020-07-01 00:00:00  swift   3607\n"
     ]
    }
   ]
  },
  {
   "cell_type": "markdown",
   "metadata": {
    "id": "0o9hvVgyGxus",
    "colab_type": "text"
   },
   "source": [
    "**Challenge:** Check how many rows and how many columns there are. \n",
    "What are the dimensions of the dataframe?"
   ]
  },
  {
   "cell_type": "code",
   "metadata": {
    "id": "ZUidjCPFIho8",
    "colab_type": "code",
    "colab": {}
   },
   "source": [
    "print(\"rows: \", len(df))\n",
    "print(\"columns: \", len(df.columns))\n",
    "print(df.shape)"
   ],
   "execution_count": 14,
   "outputs": [
    {
     "name": "stdout",
     "output_type": "stream",
     "text": [
      "rows:  1991\n",
      "columns:  3\n",
      "(1991, 3)\n"
     ]
    }
   ]
  },
  {
   "cell_type": "markdown",
   "metadata": {
    "id": "ybZkNLmxGxuu",
    "colab_type": "text"
   },
   "source": [
    "**Challenge**: Count the number of entries in each column of the dataframe"
   ]
  },
  {
   "cell_type": "code",
   "metadata": {
    "id": "Sc1dmmOoIg2g",
    "colab_type": "code",
    "colab": {}
   },
   "source": [
    "df.count()"
   ],
   "execution_count": 37,
   "outputs": [
    {
     "data": {
      "text/plain": "DATE     1991\nTAG      1991\nPOSTS    1991\ndtype: int64"
     },
     "execution_count": 37,
     "metadata": {},
     "output_type": "execute_result"
    }
   ]
  },
  {
   "cell_type": "markdown",
   "metadata": {
    "id": "hlnfFsscGxuw",
    "colab_type": "text"
   },
   "source": [
    "**Challenge**: Calculate the total number of post per language.\n",
    "Which Programming language has had the highest total number of posts of all time?"
   ]
  },
  {
   "cell_type": "code",
   "metadata": {
    "id": "9-NYFONcIc1X",
    "colab_type": "code",
    "colab": {}
   },
   "source": [
    "df.groupby('TAG').sum()"
   ],
   "execution_count": 38,
   "outputs": [
    {
     "data": {
      "text/plain": "              POSTS\nTAG                \nassembly      34852\nc            336042\nc#          1423530\nc++          684210\ndelphi        46212\ngo            47499\njava        1696403\njavascript  2056510\nperl          65286\nphp         1361988\npython      1496210\nr            356799\nruby         214582\nswift        273055",
      "text/html": "<div>\n<style scoped>\n    .dataframe tbody tr th:only-of-type {\n        vertical-align: middle;\n    }\n\n    .dataframe tbody tr th {\n        vertical-align: top;\n    }\n\n    .dataframe thead th {\n        text-align: right;\n    }\n</style>\n<table border=\"1\" class=\"dataframe\">\n  <thead>\n    <tr style=\"text-align: right;\">\n      <th></th>\n      <th>POSTS</th>\n    </tr>\n    <tr>\n      <th>TAG</th>\n      <th></th>\n    </tr>\n  </thead>\n  <tbody>\n    <tr>\n      <th>assembly</th>\n      <td>34852</td>\n    </tr>\n    <tr>\n      <th>c</th>\n      <td>336042</td>\n    </tr>\n    <tr>\n      <th>c#</th>\n      <td>1423530</td>\n    </tr>\n    <tr>\n      <th>c++</th>\n      <td>684210</td>\n    </tr>\n    <tr>\n      <th>delphi</th>\n      <td>46212</td>\n    </tr>\n    <tr>\n      <th>go</th>\n      <td>47499</td>\n    </tr>\n    <tr>\n      <th>java</th>\n      <td>1696403</td>\n    </tr>\n    <tr>\n      <th>javascript</th>\n      <td>2056510</td>\n    </tr>\n    <tr>\n      <th>perl</th>\n      <td>65286</td>\n    </tr>\n    <tr>\n      <th>php</th>\n      <td>1361988</td>\n    </tr>\n    <tr>\n      <th>python</th>\n      <td>1496210</td>\n    </tr>\n    <tr>\n      <th>r</th>\n      <td>356799</td>\n    </tr>\n    <tr>\n      <th>ruby</th>\n      <td>214582</td>\n    </tr>\n    <tr>\n      <th>swift</th>\n      <td>273055</td>\n    </tr>\n  </tbody>\n</table>\n</div>"
     },
     "execution_count": 38,
     "metadata": {},
     "output_type": "execute_result"
    }
   ]
  },
  {
   "cell_type": "markdown",
   "metadata": {
    "id": "iVCesB49Gxuz",
    "colab_type": "text"
   },
   "source": [
    "Some languages are older (e.g., C) and other languages are newer (e.g., Swift). The dataset starts in September 2008.\n",
    "\n",
    "**Challenge**: How many months of data exist per language? Which language had the fewest months with an entry? \n"
   ]
  },
  {
   "cell_type": "code",
   "metadata": {
    "id": "hDT4JlJNJfgQ",
    "colab_type": "code",
    "colab": {}
   },
   "source": [
    "df.groupby('TAG').count()"
   ],
   "execution_count": 39,
   "outputs": [
    {
     "data": {
      "text/plain": "            DATE  POSTS\nTAG                    \nassembly     144    144\nc            144    144\nc#           145    145\nc++          144    144\ndelphi       144    144\ngo           129    129\njava         144    144\njavascript   144    144\nperl         144    144\nphp          144    144\npython       144    144\nr            142    142\nruby         144    144\nswift        135    135",
      "text/html": "<div>\n<style scoped>\n    .dataframe tbody tr th:only-of-type {\n        vertical-align: middle;\n    }\n\n    .dataframe tbody tr th {\n        vertical-align: top;\n    }\n\n    .dataframe thead th {\n        text-align: right;\n    }\n</style>\n<table border=\"1\" class=\"dataframe\">\n  <thead>\n    <tr style=\"text-align: right;\">\n      <th></th>\n      <th>DATE</th>\n      <th>POSTS</th>\n    </tr>\n    <tr>\n      <th>TAG</th>\n      <th></th>\n      <th></th>\n    </tr>\n  </thead>\n  <tbody>\n    <tr>\n      <th>assembly</th>\n      <td>144</td>\n      <td>144</td>\n    </tr>\n    <tr>\n      <th>c</th>\n      <td>144</td>\n      <td>144</td>\n    </tr>\n    <tr>\n      <th>c#</th>\n      <td>145</td>\n      <td>145</td>\n    </tr>\n    <tr>\n      <th>c++</th>\n      <td>144</td>\n      <td>144</td>\n    </tr>\n    <tr>\n      <th>delphi</th>\n      <td>144</td>\n      <td>144</td>\n    </tr>\n    <tr>\n      <th>go</th>\n      <td>129</td>\n      <td>129</td>\n    </tr>\n    <tr>\n      <th>java</th>\n      <td>144</td>\n      <td>144</td>\n    </tr>\n    <tr>\n      <th>javascript</th>\n      <td>144</td>\n      <td>144</td>\n    </tr>\n    <tr>\n      <th>perl</th>\n      <td>144</td>\n      <td>144</td>\n    </tr>\n    <tr>\n      <th>php</th>\n      <td>144</td>\n      <td>144</td>\n    </tr>\n    <tr>\n      <th>python</th>\n      <td>144</td>\n      <td>144</td>\n    </tr>\n    <tr>\n      <th>r</th>\n      <td>142</td>\n      <td>142</td>\n    </tr>\n    <tr>\n      <th>ruby</th>\n      <td>144</td>\n      <td>144</td>\n    </tr>\n    <tr>\n      <th>swift</th>\n      <td>135</td>\n      <td>135</td>\n    </tr>\n  </tbody>\n</table>\n</div>"
     },
     "execution_count": 39,
     "metadata": {},
     "output_type": "execute_result"
    }
   ]
  },
  {
   "cell_type": "markdown",
   "metadata": {
    "id": "arguGp3ZGxu1",
    "colab_type": "text"
   },
   "source": [
    "## Data Cleaning\n",
    "\n",
    "Let's fix the date format to make it more readable. We need to use Pandas to change format from a string of \"2008-07-01 00:00:00\" to a datetime object with the format of \"2008-07-01\""
   ]
  },
  {
   "cell_type": "code",
   "metadata": {
    "id": "5nh5a4UtGxu1",
    "colab_type": "code",
    "colab": {}
   },
   "source": [
    "df['DATE'][1]"
   ],
   "execution_count": 40,
   "outputs": [
    {
     "data": {
      "text/plain": "'2008-08-01 00:00:00'"
     },
     "execution_count": 40,
     "metadata": {},
     "output_type": "execute_result"
    }
   ]
  },
  {
   "cell_type": "code",
   "metadata": {
    "id": "016H-Fy4Gxu3",
    "colab_type": "code",
    "colab": {}
   },
   "source": [
    "pd.to_datetime(df.DATE[1])"
   ],
   "execution_count": 5,
   "outputs": []
  },
  {
   "cell_type": "code",
   "metadata": {
    "id": "4EiSd7pdGxu5",
    "colab_type": "code",
    "colab": {}
   },
   "source": [
    "df.DATE = pd.to_datetime(df.DATE)\n",
    "df.head()"
   ],
   "execution_count": 41,
   "outputs": [
    {
     "data": {
      "text/plain": "        DATE         TAG  POSTS\n0 2008-07-01          c#      3\n1 2008-08-01    assembly      8\n2 2008-08-01  javascript    162\n3 2008-08-01           c     85\n4 2008-08-01      python    124",
      "text/html": "<div>\n<style scoped>\n    .dataframe tbody tr th:only-of-type {\n        vertical-align: middle;\n    }\n\n    .dataframe tbody tr th {\n        vertical-align: top;\n    }\n\n    .dataframe thead th {\n        text-align: right;\n    }\n</style>\n<table border=\"1\" class=\"dataframe\">\n  <thead>\n    <tr style=\"text-align: right;\">\n      <th></th>\n      <th>DATE</th>\n      <th>TAG</th>\n      <th>POSTS</th>\n    </tr>\n  </thead>\n  <tbody>\n    <tr>\n      <th>0</th>\n      <td>2008-07-01</td>\n      <td>c#</td>\n      <td>3</td>\n    </tr>\n    <tr>\n      <th>1</th>\n      <td>2008-08-01</td>\n      <td>assembly</td>\n      <td>8</td>\n    </tr>\n    <tr>\n      <th>2</th>\n      <td>2008-08-01</td>\n      <td>javascript</td>\n      <td>162</td>\n    </tr>\n    <tr>\n      <th>3</th>\n      <td>2008-08-01</td>\n      <td>c</td>\n      <td>85</td>\n    </tr>\n    <tr>\n      <th>4</th>\n      <td>2008-08-01</td>\n      <td>python</td>\n      <td>124</td>\n    </tr>\n  </tbody>\n</table>\n</div>"
     },
     "execution_count": 41,
     "metadata": {},
     "output_type": "execute_result"
    }
   ]
  },
  {
   "cell_type": "markdown",
   "metadata": {
    "id": "rWAV6tuzGxu6",
    "colab_type": "text"
   },
   "source": [
    "## Data Manipulation\n",
    "\n"
   ]
  },
  {
   "cell_type": "code",
   "metadata": {
    "id": "aHhbulJaGxu7",
    "colab_type": "code",
    "colab": {}
   },
   "source": [
    "reshaped_df = df.pivot(index='DATE', columns='TAG', values='POSTS')"
   ],
   "execution_count": 43,
   "outputs": [
    {
     "data": {
      "text/plain": "TAG         assembly      c      c#    c++  delphi  go    java  javascript  \\\nDATE                                                                         \n2008-07-01       NaN    NaN     3.0    NaN     NaN NaN     NaN         NaN   \n2008-08-01       8.0   85.0   511.0  164.0    14.0 NaN   222.0       162.0   \n2008-09-01      28.0  321.0  1649.0  755.0   105.0 NaN  1137.0       640.0   \n2008-10-01      15.0  303.0  1989.0  811.0   112.0 NaN  1153.0       725.0   \n2008-11-01      17.0  259.0  1730.0  735.0   141.0 NaN   958.0       579.0   \n\nTAG          perl    php  python    r   ruby  swift  \nDATE                                                 \n2008-07-01    NaN    NaN     NaN  NaN    NaN    NaN  \n2008-08-01   28.0  161.0   124.0  NaN   73.0    NaN  \n2008-09-01  131.0  482.0   542.0  6.0  290.0    NaN  \n2008-10-01  127.0  617.0   510.0  NaN  249.0    NaN  \n2008-11-01   97.0  504.0   452.0  1.0  160.0    NaN  ",
      "text/html": "<div>\n<style scoped>\n    .dataframe tbody tr th:only-of-type {\n        vertical-align: middle;\n    }\n\n    .dataframe tbody tr th {\n        vertical-align: top;\n    }\n\n    .dataframe thead th {\n        text-align: right;\n    }\n</style>\n<table border=\"1\" class=\"dataframe\">\n  <thead>\n    <tr style=\"text-align: right;\">\n      <th>TAG</th>\n      <th>assembly</th>\n      <th>c</th>\n      <th>c#</th>\n      <th>c++</th>\n      <th>delphi</th>\n      <th>go</th>\n      <th>java</th>\n      <th>javascript</th>\n      <th>perl</th>\n      <th>php</th>\n      <th>python</th>\n      <th>r</th>\n      <th>ruby</th>\n      <th>swift</th>\n    </tr>\n    <tr>\n      <th>DATE</th>\n      <th></th>\n      <th></th>\n      <th></th>\n      <th></th>\n      <th></th>\n      <th></th>\n      <th></th>\n      <th></th>\n      <th></th>\n      <th></th>\n      <th></th>\n      <th></th>\n      <th></th>\n      <th></th>\n    </tr>\n  </thead>\n  <tbody>\n    <tr>\n      <th>2008-07-01</th>\n      <td>NaN</td>\n      <td>NaN</td>\n      <td>3.0</td>\n      <td>NaN</td>\n      <td>NaN</td>\n      <td>NaN</td>\n      <td>NaN</td>\n      <td>NaN</td>\n      <td>NaN</td>\n      <td>NaN</td>\n      <td>NaN</td>\n      <td>NaN</td>\n      <td>NaN</td>\n      <td>NaN</td>\n    </tr>\n    <tr>\n      <th>2008-08-01</th>\n      <td>8.0</td>\n      <td>85.0</td>\n      <td>511.0</td>\n      <td>164.0</td>\n      <td>14.0</td>\n      <td>NaN</td>\n      <td>222.0</td>\n      <td>162.0</td>\n      <td>28.0</td>\n      <td>161.0</td>\n      <td>124.0</td>\n      <td>NaN</td>\n      <td>73.0</td>\n      <td>NaN</td>\n    </tr>\n    <tr>\n      <th>2008-09-01</th>\n      <td>28.0</td>\n      <td>321.0</td>\n      <td>1649.0</td>\n      <td>755.0</td>\n      <td>105.0</td>\n      <td>NaN</td>\n      <td>1137.0</td>\n      <td>640.0</td>\n      <td>131.0</td>\n      <td>482.0</td>\n      <td>542.0</td>\n      <td>6.0</td>\n      <td>290.0</td>\n      <td>NaN</td>\n    </tr>\n    <tr>\n      <th>2008-10-01</th>\n      <td>15.0</td>\n      <td>303.0</td>\n      <td>1989.0</td>\n      <td>811.0</td>\n      <td>112.0</td>\n      <td>NaN</td>\n      <td>1153.0</td>\n      <td>725.0</td>\n      <td>127.0</td>\n      <td>617.0</td>\n      <td>510.0</td>\n      <td>NaN</td>\n      <td>249.0</td>\n      <td>NaN</td>\n    </tr>\n    <tr>\n      <th>2008-11-01</th>\n      <td>17.0</td>\n      <td>259.0</td>\n      <td>1730.0</td>\n      <td>735.0</td>\n      <td>141.0</td>\n      <td>NaN</td>\n      <td>958.0</td>\n      <td>579.0</td>\n      <td>97.0</td>\n      <td>504.0</td>\n      <td>452.0</td>\n      <td>1.0</td>\n      <td>160.0</td>\n      <td>NaN</td>\n    </tr>\n  </tbody>\n</table>\n</div>"
     },
     "execution_count": 43,
     "metadata": {},
     "output_type": "execute_result"
    }
   ]
  },
  {
   "cell_type": "markdown",
   "metadata": {
    "id": "RWKcVIyFKwHM",
    "colab_type": "text"
   },
   "source": [
    "**Challenge**: What are the dimensions of our new dataframe? How many rows and columns does it have? Print out the column names and print out the first 5 rows of the dataframe."
   ]
  },
  {
   "cell_type": "code",
   "metadata": {
    "id": "v-u4FcLXGxu9",
    "colab_type": "code",
    "colab": {}
   },
   "source": [
    "print(\"rows: \", len(reshaped_df))\n",
    "print(\"columns: \", len(reshaped_df.columns))"
   ],
   "execution_count": 44,
   "outputs": [
    {
     "name": "stdout",
     "output_type": "stream",
     "text": [
      "rows:  145\n",
      "columns:  14\n",
      "(145, 14)\n"
     ]
    }
   ]
  },
  {
   "cell_type": "code",
   "metadata": {
    "id": "NUyBcaMMGxu-",
    "colab_type": "code",
    "colab": {}
   },
   "source": [
    "reshaped_df.count()"
   ],
   "execution_count": 47,
   "outputs": [
    {
     "data": {
      "text/plain": "TAG\nassembly      144\nc             144\nc#            145\nc++           144\ndelphi        144\ngo            129\njava          144\njavascript    144\nperl          144\nphp           144\npython        144\nr             142\nruby          144\nswift         135\ndtype: int64"
     },
     "execution_count": 47,
     "metadata": {},
     "output_type": "execute_result"
    }
   ]
  },
  {
   "cell_type": "code",
   "metadata": {
    "id": "LnUIOL3LGxvA",
    "colab_type": "code",
    "colab": {}
   },
   "source": [
    "reshaped_df = reshaped_df.fillna(0)\n",
    "reshaped_df.head()"
   ],
   "execution_count": 48,
   "outputs": [
    {
     "data": {
      "text/plain": "TAG         assembly      c      c#    c++  delphi   go    java  javascript  \\\nDATE                                                                          \n2008-07-01       0.0    0.0     3.0    0.0     0.0  0.0     0.0         0.0   \n2008-08-01       8.0   85.0   511.0  164.0    14.0  0.0   222.0       162.0   \n2008-09-01      28.0  321.0  1649.0  755.0   105.0  0.0  1137.0       640.0   \n2008-10-01      15.0  303.0  1989.0  811.0   112.0  0.0  1153.0       725.0   \n2008-11-01      17.0  259.0  1730.0  735.0   141.0  0.0   958.0       579.0   \n\nTAG          perl    php  python    r   ruby  swift  \nDATE                                                 \n2008-07-01    0.0    0.0     0.0  0.0    0.0    0.0  \n2008-08-01   28.0  161.0   124.0  0.0   73.0    0.0  \n2008-09-01  131.0  482.0   542.0  6.0  290.0    0.0  \n2008-10-01  127.0  617.0   510.0  0.0  249.0    0.0  \n2008-11-01   97.0  504.0   452.0  1.0  160.0    0.0  ",
      "text/html": "<div>\n<style scoped>\n    .dataframe tbody tr th:only-of-type {\n        vertical-align: middle;\n    }\n\n    .dataframe tbody tr th {\n        vertical-align: top;\n    }\n\n    .dataframe thead th {\n        text-align: right;\n    }\n</style>\n<table border=\"1\" class=\"dataframe\">\n  <thead>\n    <tr style=\"text-align: right;\">\n      <th>TAG</th>\n      <th>assembly</th>\n      <th>c</th>\n      <th>c#</th>\n      <th>c++</th>\n      <th>delphi</th>\n      <th>go</th>\n      <th>java</th>\n      <th>javascript</th>\n      <th>perl</th>\n      <th>php</th>\n      <th>python</th>\n      <th>r</th>\n      <th>ruby</th>\n      <th>swift</th>\n    </tr>\n    <tr>\n      <th>DATE</th>\n      <th></th>\n      <th></th>\n      <th></th>\n      <th></th>\n      <th></th>\n      <th></th>\n      <th></th>\n      <th></th>\n      <th></th>\n      <th></th>\n      <th></th>\n      <th></th>\n      <th></th>\n      <th></th>\n    </tr>\n  </thead>\n  <tbody>\n    <tr>\n      <th>2008-07-01</th>\n      <td>0.0</td>\n      <td>0.0</td>\n      <td>3.0</td>\n      <td>0.0</td>\n      <td>0.0</td>\n      <td>0.0</td>\n      <td>0.0</td>\n      <td>0.0</td>\n      <td>0.0</td>\n      <td>0.0</td>\n      <td>0.0</td>\n      <td>0.0</td>\n      <td>0.0</td>\n      <td>0.0</td>\n    </tr>\n    <tr>\n      <th>2008-08-01</th>\n      <td>8.0</td>\n      <td>85.0</td>\n      <td>511.0</td>\n      <td>164.0</td>\n      <td>14.0</td>\n      <td>0.0</td>\n      <td>222.0</td>\n      <td>162.0</td>\n      <td>28.0</td>\n      <td>161.0</td>\n      <td>124.0</td>\n      <td>0.0</td>\n      <td>73.0</td>\n      <td>0.0</td>\n    </tr>\n    <tr>\n      <th>2008-09-01</th>\n      <td>28.0</td>\n      <td>321.0</td>\n      <td>1649.0</td>\n      <td>755.0</td>\n      <td>105.0</td>\n      <td>0.0</td>\n      <td>1137.0</td>\n      <td>640.0</td>\n      <td>131.0</td>\n      <td>482.0</td>\n      <td>542.0</td>\n      <td>6.0</td>\n      <td>290.0</td>\n      <td>0.0</td>\n    </tr>\n    <tr>\n      <th>2008-10-01</th>\n      <td>15.0</td>\n      <td>303.0</td>\n      <td>1989.0</td>\n      <td>811.0</td>\n      <td>112.0</td>\n      <td>0.0</td>\n      <td>1153.0</td>\n      <td>725.0</td>\n      <td>127.0</td>\n      <td>617.0</td>\n      <td>510.0</td>\n      <td>0.0</td>\n      <td>249.0</td>\n      <td>0.0</td>\n    </tr>\n    <tr>\n      <th>2008-11-01</th>\n      <td>17.0</td>\n      <td>259.0</td>\n      <td>1730.0</td>\n      <td>735.0</td>\n      <td>141.0</td>\n      <td>0.0</td>\n      <td>958.0</td>\n      <td>579.0</td>\n      <td>97.0</td>\n      <td>504.0</td>\n      <td>452.0</td>\n      <td>1.0</td>\n      <td>160.0</td>\n      <td>0.0</td>\n    </tr>\n  </tbody>\n</table>\n</div>"
     },
     "execution_count": 48,
     "metadata": {},
     "output_type": "execute_result"
    }
   ]
  },
  {
   "cell_type": "markdown",
   "metadata": {
    "id": "BoDCuRU0GxvC",
    "colab_type": "text"
   },
   "source": [
    "**Challenge**: Count the number of entries per programming language. Why might the number of entries be different? "
   ]
  },
  {
   "cell_type": "code",
   "metadata": {
    "id": "-peEFgaMGxvE",
    "colab_type": "code",
    "colab": {}
   },
   "source": [],
   "execution_count": 49,
   "outputs": [
    {
     "ename": "KeyError",
     "evalue": "'TAG'",
     "output_type": "error",
     "traceback": [
      "\u001B[0;31m---------------------------------------------------------------------------\u001B[0m",
      "\u001B[0;31mKeyError\u001B[0m                                  Traceback (most recent call last)",
      "Input \u001B[0;32mIn [49]\u001B[0m, in \u001B[0;36m<cell line: 1>\u001B[0;34m()\u001B[0m\n\u001B[0;32m----> 1\u001B[0m \u001B[43mreshaped_df\u001B[49m\u001B[38;5;241;43m.\u001B[39;49m\u001B[43mgroupby\u001B[49m\u001B[43m(\u001B[49m\u001B[38;5;124;43m'\u001B[39;49m\u001B[38;5;124;43mTAG\u001B[39;49m\u001B[38;5;124;43m'\u001B[39;49m\u001B[43m)\u001B[49m\u001B[38;5;241m.\u001B[39msum()\n",
      "File \u001B[0;32m~/Environments/pycharm/lib/python3.9/site-packages/pandas/core/frame.py:7712\u001B[0m, in \u001B[0;36mDataFrame.groupby\u001B[0;34m(self, by, axis, level, as_index, sort, group_keys, squeeze, observed, dropna)\u001B[0m\n\u001B[1;32m   7707\u001B[0m axis \u001B[38;5;241m=\u001B[39m \u001B[38;5;28mself\u001B[39m\u001B[38;5;241m.\u001B[39m_get_axis_number(axis)\n\u001B[1;32m   7709\u001B[0m \u001B[38;5;66;03m# https://github.com/python/mypy/issues/7642\u001B[39;00m\n\u001B[1;32m   7710\u001B[0m \u001B[38;5;66;03m# error: Argument \"squeeze\" to \"DataFrameGroupBy\" has incompatible type\u001B[39;00m\n\u001B[1;32m   7711\u001B[0m \u001B[38;5;66;03m# \"Union[bool, NoDefault]\"; expected \"bool\"\u001B[39;00m\n\u001B[0;32m-> 7712\u001B[0m \u001B[38;5;28;01mreturn\u001B[39;00m \u001B[43mDataFrameGroupBy\u001B[49m\u001B[43m(\u001B[49m\n\u001B[1;32m   7713\u001B[0m \u001B[43m    \u001B[49m\u001B[43mobj\u001B[49m\u001B[38;5;241;43m=\u001B[39;49m\u001B[38;5;28;43mself\u001B[39;49m\u001B[43m,\u001B[49m\n\u001B[1;32m   7714\u001B[0m \u001B[43m    \u001B[49m\u001B[43mkeys\u001B[49m\u001B[38;5;241;43m=\u001B[39;49m\u001B[43mby\u001B[49m\u001B[43m,\u001B[49m\n\u001B[1;32m   7715\u001B[0m \u001B[43m    \u001B[49m\u001B[43maxis\u001B[49m\u001B[38;5;241;43m=\u001B[39;49m\u001B[43maxis\u001B[49m\u001B[43m,\u001B[49m\n\u001B[1;32m   7716\u001B[0m \u001B[43m    \u001B[49m\u001B[43mlevel\u001B[49m\u001B[38;5;241;43m=\u001B[39;49m\u001B[43mlevel\u001B[49m\u001B[43m,\u001B[49m\n\u001B[1;32m   7717\u001B[0m \u001B[43m    \u001B[49m\u001B[43mas_index\u001B[49m\u001B[38;5;241;43m=\u001B[39;49m\u001B[43mas_index\u001B[49m\u001B[43m,\u001B[49m\n\u001B[1;32m   7718\u001B[0m \u001B[43m    \u001B[49m\u001B[43msort\u001B[49m\u001B[38;5;241;43m=\u001B[39;49m\u001B[43msort\u001B[49m\u001B[43m,\u001B[49m\n\u001B[1;32m   7719\u001B[0m \u001B[43m    \u001B[49m\u001B[43mgroup_keys\u001B[49m\u001B[38;5;241;43m=\u001B[39;49m\u001B[43mgroup_keys\u001B[49m\u001B[43m,\u001B[49m\n\u001B[1;32m   7720\u001B[0m \u001B[43m    \u001B[49m\u001B[43msqueeze\u001B[49m\u001B[38;5;241;43m=\u001B[39;49m\u001B[43msqueeze\u001B[49m\u001B[43m,\u001B[49m\u001B[43m  \u001B[49m\u001B[38;5;66;43;03m# type: ignore[arg-type]\u001B[39;49;00m\n\u001B[1;32m   7721\u001B[0m \u001B[43m    \u001B[49m\u001B[43mobserved\u001B[49m\u001B[38;5;241;43m=\u001B[39;49m\u001B[43mobserved\u001B[49m\u001B[43m,\u001B[49m\n\u001B[1;32m   7722\u001B[0m \u001B[43m    \u001B[49m\u001B[43mdropna\u001B[49m\u001B[38;5;241;43m=\u001B[39;49m\u001B[43mdropna\u001B[49m\u001B[43m,\u001B[49m\n\u001B[1;32m   7723\u001B[0m \u001B[43m\u001B[49m\u001B[43m)\u001B[49m\n",
      "File \u001B[0;32m~/Environments/pycharm/lib/python3.9/site-packages/pandas/core/groupby/groupby.py:882\u001B[0m, in \u001B[0;36mGroupBy.__init__\u001B[0;34m(self, obj, keys, axis, level, grouper, exclusions, selection, as_index, sort, group_keys, squeeze, observed, mutated, dropna)\u001B[0m\n\u001B[1;32m    879\u001B[0m \u001B[38;5;28;01mif\u001B[39;00m grouper \u001B[38;5;129;01mis\u001B[39;00m \u001B[38;5;28;01mNone\u001B[39;00m:\n\u001B[1;32m    880\u001B[0m     \u001B[38;5;28;01mfrom\u001B[39;00m \u001B[38;5;21;01mpandas\u001B[39;00m\u001B[38;5;21;01m.\u001B[39;00m\u001B[38;5;21;01mcore\u001B[39;00m\u001B[38;5;21;01m.\u001B[39;00m\u001B[38;5;21;01mgroupby\u001B[39;00m\u001B[38;5;21;01m.\u001B[39;00m\u001B[38;5;21;01mgrouper\u001B[39;00m \u001B[38;5;28;01mimport\u001B[39;00m get_grouper\n\u001B[0;32m--> 882\u001B[0m     grouper, exclusions, obj \u001B[38;5;241m=\u001B[39m \u001B[43mget_grouper\u001B[49m\u001B[43m(\u001B[49m\n\u001B[1;32m    883\u001B[0m \u001B[43m        \u001B[49m\u001B[43mobj\u001B[49m\u001B[43m,\u001B[49m\n\u001B[1;32m    884\u001B[0m \u001B[43m        \u001B[49m\u001B[43mkeys\u001B[49m\u001B[43m,\u001B[49m\n\u001B[1;32m    885\u001B[0m \u001B[43m        \u001B[49m\u001B[43maxis\u001B[49m\u001B[38;5;241;43m=\u001B[39;49m\u001B[43maxis\u001B[49m\u001B[43m,\u001B[49m\n\u001B[1;32m    886\u001B[0m \u001B[43m        \u001B[49m\u001B[43mlevel\u001B[49m\u001B[38;5;241;43m=\u001B[39;49m\u001B[43mlevel\u001B[49m\u001B[43m,\u001B[49m\n\u001B[1;32m    887\u001B[0m \u001B[43m        \u001B[49m\u001B[43msort\u001B[49m\u001B[38;5;241;43m=\u001B[39;49m\u001B[43msort\u001B[49m\u001B[43m,\u001B[49m\n\u001B[1;32m    888\u001B[0m \u001B[43m        \u001B[49m\u001B[43mobserved\u001B[49m\u001B[38;5;241;43m=\u001B[39;49m\u001B[43mobserved\u001B[49m\u001B[43m,\u001B[49m\n\u001B[1;32m    889\u001B[0m \u001B[43m        \u001B[49m\u001B[43mmutated\u001B[49m\u001B[38;5;241;43m=\u001B[39;49m\u001B[38;5;28;43mself\u001B[39;49m\u001B[38;5;241;43m.\u001B[39;49m\u001B[43mmutated\u001B[49m\u001B[43m,\u001B[49m\n\u001B[1;32m    890\u001B[0m \u001B[43m        \u001B[49m\u001B[43mdropna\u001B[49m\u001B[38;5;241;43m=\u001B[39;49m\u001B[38;5;28;43mself\u001B[39;49m\u001B[38;5;241;43m.\u001B[39;49m\u001B[43mdropna\u001B[49m\u001B[43m,\u001B[49m\n\u001B[1;32m    891\u001B[0m \u001B[43m    \u001B[49m\u001B[43m)\u001B[49m\n\u001B[1;32m    893\u001B[0m \u001B[38;5;28mself\u001B[39m\u001B[38;5;241m.\u001B[39mobj \u001B[38;5;241m=\u001B[39m obj\n\u001B[1;32m    894\u001B[0m \u001B[38;5;28mself\u001B[39m\u001B[38;5;241m.\u001B[39maxis \u001B[38;5;241m=\u001B[39m obj\u001B[38;5;241m.\u001B[39m_get_axis_number(axis)\n",
      "File \u001B[0;32m~/Environments/pycharm/lib/python3.9/site-packages/pandas/core/groupby/grouper.py:882\u001B[0m, in \u001B[0;36mget_grouper\u001B[0;34m(obj, key, axis, level, sort, observed, mutated, validate, dropna)\u001B[0m\n\u001B[1;32m    880\u001B[0m         in_axis, level, gpr \u001B[38;5;241m=\u001B[39m \u001B[38;5;28;01mFalse\u001B[39;00m, gpr, \u001B[38;5;28;01mNone\u001B[39;00m\n\u001B[1;32m    881\u001B[0m     \u001B[38;5;28;01melse\u001B[39;00m:\n\u001B[0;32m--> 882\u001B[0m         \u001B[38;5;28;01mraise\u001B[39;00m \u001B[38;5;167;01mKeyError\u001B[39;00m(gpr)\n\u001B[1;32m    883\u001B[0m \u001B[38;5;28;01melif\u001B[39;00m \u001B[38;5;28misinstance\u001B[39m(gpr, Grouper) \u001B[38;5;129;01mand\u001B[39;00m gpr\u001B[38;5;241m.\u001B[39mkey \u001B[38;5;129;01mis\u001B[39;00m \u001B[38;5;129;01mnot\u001B[39;00m \u001B[38;5;28;01mNone\u001B[39;00m:\n\u001B[1;32m    884\u001B[0m     \u001B[38;5;66;03m# Add key to exclusions\u001B[39;00m\n\u001B[1;32m    885\u001B[0m     exclusions\u001B[38;5;241m.\u001B[39madd(gpr\u001B[38;5;241m.\u001B[39mkey)\n",
      "\u001B[0;31mKeyError\u001B[0m: 'TAG'"
     ]
    }
   ]
  },
  {
   "cell_type": "code",
   "metadata": {
    "id": "01f2BCF8GxvG",
    "colab_type": "code",
    "colab": {}
   },
   "source": [
    ""
   ],
   "execution_count": 5,
   "outputs": []
  },
  {
   "cell_type": "code",
   "metadata": {
    "id": "KooRRxAdGxvI",
    "colab_type": "code",
    "colab": {}
   },
   "source": [
    ""
   ],
   "execution_count": 5,
   "outputs": []
  },
  {
   "cell_type": "markdown",
   "metadata": {
    "id": "8xU7l_f4GxvK",
    "colab_type": "text"
   },
   "source": [
    "## Data Visualisaton with with Matplotlib\n"
   ]
  },
  {
   "cell_type": "markdown",
   "metadata": {
    "id": "njnNXTlhGxvK",
    "colab_type": "text"
   },
   "source": [
    "**Challenge**: Use the [matplotlib documentation](https://matplotlib.org/3.2.1/api/_as_gen/matplotlib.pyplot.plot.html#matplotlib.pyplot.plot) to plot a single programming language (e.g., java) on a chart."
   ]
  },
  {
   "cell_type": "code",
   "metadata": {
    "id": "S0OS8T8iGxvL",
    "colab_type": "code",
    "colab": {}
   },
   "source": [
    ""
   ],
   "execution_count": 5,
   "outputs": []
  },
  {
   "cell_type": "code",
   "metadata": {
    "id": "EU6AV1l9GxvM",
    "colab_type": "code",
    "colab": {}
   },
   "source": [
    ""
   ],
   "execution_count": 5,
   "outputs": []
  },
  {
   "cell_type": "code",
   "metadata": {
    "id": "_Qzzg6b_GxvO",
    "colab_type": "code",
    "colab": {}
   },
   "source": [
    ""
   ],
   "execution_count": 5,
   "outputs": []
  },
  {
   "cell_type": "markdown",
   "metadata": {
    "id": "Sm2DL5tZGxvQ",
    "colab_type": "text"
   },
   "source": [
    "**Challenge**: Show two line (e.g. for Java and Python) on the same chart."
   ]
  },
  {
   "cell_type": "code",
   "metadata": {
    "id": "T-0vClQSGxvQ",
    "colab_type": "code",
    "colab": {}
   },
   "source": [
    ""
   ],
   "execution_count": 5,
   "outputs": []
  },
  {
   "cell_type": "markdown",
   "metadata": {
    "id": "3jSjfPy7GxvY",
    "colab_type": "text"
   },
   "source": [
    "# Smoothing out Time Series Data\n",
    "\n",
    "Time series data can be quite noisy, with a lot of up and down spikes. To better see a trend we can plot an average of, say 6 or 12 observations. This is called the rolling mean. We calculate the average in a window of time and move it forward by one overservation. Pandas has two handy methods already built in to work this out: [rolling()](https://pandas.pydata.org/pandas-docs/stable/reference/api/pandas.DataFrame.rolling.html) and [mean()](https://pandas.pydata.org/pandas-docs/stable/reference/api/pandas.core.window.rolling.Rolling.mean.html). "
   ]
  },
  {
   "cell_type": "code",
   "metadata": {
    "id": "s3WYd3OgGxvc",
    "colab_type": "code",
    "colab": {}
   },
   "source": [
    ""
   ],
   "execution_count": null,
   "outputs": []
  },
  {
   "cell_type": "code",
   "metadata": {
    "id": "WMJOX8Y2Gxvd",
    "colab_type": "code",
    "colab": {}
   },
   "source": [
    ""
   ],
   "execution_count": null,
   "outputs": []
  },
  {
   "cell_type": "code",
   "metadata": {
    "id": "fAvvarA7Gxvf",
    "colab_type": "code",
    "colab": {}
   },
   "source": [
    ""
   ],
   "execution_count": null,
   "outputs": []
  },
  {
   "cell_type": "code",
   "metadata": {
    "id": "Gm0Ww0S4Gxvg",
    "colab_type": "code",
    "colab": {}
   },
   "source": [
    ""
   ],
   "execution_count": null,
   "outputs": []
  }
 ]
}